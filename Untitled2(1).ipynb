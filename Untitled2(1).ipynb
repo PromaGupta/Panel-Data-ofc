{
 "cells": [
  {
   "cell_type": "code",
   "execution_count": 1,
   "id": "b093157d",
   "metadata": {},
   "outputs": [],
   "source": [
    "import numpy as np\n",
    "import pandas_datareader as pdr\n",
    "import datetime as dt\n",
    "import pandas as pd\n",
    " \n",
    "tickers = ['TMP', 'WASH', 'THFF', 'CTBI','HFWA','HBNC', 'GSBC', 'JPM', 'WFC', 'GABC', 'RJF', 'SNV', 'MFG', 'CFR', 'WTFC', \n",
    "          'BOKF', 'FNB', 'PB', 'HWC', 'WAFD', 'CMA', 'FHN', 'FULT', 'WBS', 'TCBI', 'VLY', 'FCNCA', 'EWBC', 'ABCB', 'HTLF', 'BANR',\n",
    "          'WSFS', 'COLB', 'UCBI', 'SIVB', 'UBSI', 'UMPQ', 'WAL', 'WSBC', 'SASR', 'GBCI', 'CVBF', 'PPBI', 'HOMB', 'AUB', 'CATY',\n",
    "          'HTH', 'CBU', 'SFNC', 'FNLC', 'INDB', 'SSB', 'NTRS', 'BCS']\n",
    "start = dt.datetime(2010, 12, 31)\n",
    "end = dt.datetime(2019, 12, 31)\n",
    " \n",
    "stockData = pdr.get_data_yahoo(tickers, start, end, interval=\"d\")"
   ]
  },
  {
   "cell_type": "code",
   "execution_count": 2,
   "id": "39df3d7d",
   "metadata": {},
   "outputs": [],
   "source": [
    "data = stockData\n",
    "num_stocks = len(data.columns)"
   ]
  },
  {
   "cell_type": "code",
   "execution_count": 3,
   "id": "55eed46c",
   "metadata": {},
   "outputs": [],
   "source": [
    "returns = data.pct_change()\n",
    "returns = returns - returns.mean(skipna=True) # de-mean the returns"
   ]
  },
  {
   "cell_type": "code",
   "execution_count": 8,
   "id": "94428752",
   "metadata": {},
   "outputs": [
    {
     "data": {
      "image/png": "[encoded data removed]",
      "text/plain": [
       "<Figure size 432x288 with 1 Axes>"
      ]
     },
     "metadata": {
      "needs_background": "light"
     },
     "output_type": "display_data"
    }
   ],
   "source": [
    "#Now we need to generate some weights\n",
    "def scale(x):\n",
    "    return x / np.sum(np.abs(x))\n",
    "\n",
    "weights = scale(np.random.random(num_stocks))\n",
    "plt.bar(np.arange(num_stocks), weights);"
   ]
  },
  {
   "cell_type": "code",
   "execution_count": 7,
   "id": "cbdfcbd7",
   "metadata": {},
   "outputs": [],
   "source": [
    "import matplotlib as plt\n",
    "import numpy as np\n",
    "import pandas as pd\n",
    "\n",
    "from scipy.stats import norm\n",
    "import time\n",
    "\n",
    "import matplotlib.pyplot as plt"
   ]
  },
  {
   "cell_type": "code",
   "execution_count": 9,
   "id": "092dadd9",
   "metadata": {},
   "outputs": [],
   "source": [
    "#Now let's compute the VaR for  α=0.95"
   ]
  },
  {
   "cell_type": "code",
   "execution_count": 18,
   "id": "c215a0c1",
   "metadata": {},
   "outputs": [],
   "source": [
    "def value_at_risk(value_invested, returns, weights, alpha=0.95, lookback_days=520):\n",
    "    returns = returns.fillna(0.0)\n",
    "    # Multiply asset returns by weights to get one weighted portfolio return\n",
    "    portfolio_returns = returns.iloc[-lookback_days:].dot(weights)\n",
    "    # Compute the correct percentile loss and multiply by value invested\n",
    "    return np.percentile(portfolio_returns, 100 * (1-alpha)) * value_invested"
   ]
  },
  {
   "cell_type": "code",
   "execution_count": 19,
   "id": "ed6ea8cb",
   "metadata": {},
   "outputs": [],
   "source": [
    "value_invested = 1000000"
   ]
  },
  {
   "cell_type": "code",
   "execution_count": 20,
   "id": "98d2c0ca",
   "metadata": {},
   "outputs": [
    {
     "data": {
      "text/plain": [
       "nan"
      ]
     },
     "execution_count": 20,
     "metadata": {},
     "output_type": "execute_result"
    }
   ],
   "source": [
    "value_at_risk(value_invested, returns, weights, alpha=0.95, lookback_days=1000)"
   ]
  },
  {
   "cell_type": "code",
   "execution_count": 21,
   "id": "eb1ddcf4",
   "metadata": {},
   "outputs": [],
   "source": [
    "def value_at_risk(value_invested, returns, weights, alpha=0.95, lookback_days=520):\n",
    "    returns = returns.fillna(0.0)\n",
    "    # Multiply asset returns by weights to get one weighted portfolio return\n",
    "    portfolio_returns = returns.iloc[-lookback_days:].dot(weights)\n",
    "    # Compute the correct percentile loss and multiply by value invested\n",
    "    return np.percentile(portfolio_returns, 100 * (1-alpha)) * value_invested"
   ]
  },
  {
   "cell_type": "code",
   "execution_count": 22,
   "id": "f3e5ae83",
   "metadata": {},
   "outputs": [
    {
     "ename": "ModuleNotFoundError",
     "evalue": "No module named 'quantrocket'",
     "output_type": "error",
     "traceback": [
      "\u001b[1;31m---------------------------------------------------------------------------\u001b[0m",
      "\u001b[1;31mModuleNotFoundError\u001b[0m                       Traceback (most recent call last)",
      "\u001b[1;32m~\\AppData\\Local\\Temp/ipykernel_10728/1816985068.py\u001b[0m in \u001b[0;36m<module>\u001b[1;34m\u001b[0m\n\u001b[0;32m      1\u001b[0m \u001b[1;31m# OEX components as of 3/31/16\u001b[0m\u001b[1;33m\u001b[0m\u001b[1;33m\u001b[0m\u001b[0m\n\u001b[0;32m      2\u001b[0m \u001b[1;31m# http://www.cboe.com/products/indexcomponents.aspx?DIR=OPIndexComp&FILE=snp100.doc\u001b[0m\u001b[1;33m\u001b[0m\u001b[1;33m\u001b[0m\u001b[0m\n\u001b[1;32m----> 3\u001b[1;33m \u001b[1;32mfrom\u001b[0m \u001b[0mquantrocket\u001b[0m\u001b[1;33m.\u001b[0m\u001b[0mmaster\u001b[0m \u001b[1;32mimport\u001b[0m \u001b[0mget_securities\u001b[0m\u001b[1;33m\u001b[0m\u001b[1;33m\u001b[0m\u001b[0m\n\u001b[0m\u001b[0;32m      4\u001b[0m \u001b[1;32mfrom\u001b[0m \u001b[0mquantrocket\u001b[0m \u001b[1;32mimport\u001b[0m \u001b[0mget_prices\u001b[0m\u001b[1;33m\u001b[0m\u001b[1;33m\u001b[0m\u001b[0m\n\u001b[0;32m      5\u001b[0m \u001b[1;33m\u001b[0m\u001b[0m\n",
      "\u001b[1;31mModuleNotFoundError\u001b[0m: No module named 'quantrocket'"
     ]
    }
   ],
   "source": [
    "# OEX components as of 3/31/16\n",
    "# http://www.cboe.com/products/indexcomponents.aspx?DIR=OPIndexComp&FILE=snp100.doc\n",
    "from quantrocket.master import get_securities\n",
    "from quantrocket import get_prices\n",
    "\n",
    "oex = ['MMM','T','ABBV','ABT','ACN','ALL','GOOGL','GOOG','MO','AMZN','AXP','AIG','AMGN','AAPL','BAC',\n",
    "       'BRK.B','BIIB','BLK','BA','BMY','CVS','COF','CAT','CELG','CVX','CSCO','C','KO','CL','CMCSA',\n",
    "       'COP','DHR','DOW','DUK','DD','EMC','EMR','EXC','XOM','FB','FDX','F','GD','GE','GM','GILD',\n",
    "       'GS','HAL','HD','HON','INTC','IBM','JPM','JNJ','KMI','LLY','LMT','LOW','MA','MCD','MDT','MRK',\n",
    "       'MET','MSFT','MON','MS','NKE','NEE','OXY','ORCL','PYPL','PEP','PFE','PM','PG','QCOM',\n",
    "       'RTN','SLB','SPG','SO','SBUX','TGT','TXN','BK','BKNG','TWX','FOXA','FOX','USB','UNP','UPS','RTX',\n",
    "       'UNH','VZ','V','WMT','WBA','DIS','WFC']\n",
    "\n",
    "securities = get_securities(symbols=oex, vendors='usstock')"
   ]
  },
  {
   "cell_type": "code",
   "execution_count": 23,
   "id": "87f08732",
   "metadata": {},
   "outputs": [
    {
     "name": "stderr",
     "output_type": "stream",
     "text": [
      "WARNING: Ignoring invalid distribution -tatsmodels (c:\\users\\hp\\anaconda3\\lib\\site-packages)\n",
      "WARNING: Ignoring invalid distribution -tatsmodels (c:\\users\\hp\\anaconda3\\lib\\site-packages)\n",
      "ERROR: Could not find a version that satisfies the requirement quantrocket (from versions: none)\n",
      "ERROR: No matching distribution found for quantrocket\n",
      "WARNING: Ignoring invalid distribution -tatsmodels (c:\\users\\hp\\anaconda3\\lib\\site-packages)\n",
      "WARNING: Ignoring invalid distribution -tatsmodels (c:\\users\\hp\\anaconda3\\lib\\site-packages)\n",
      "WARNING: Ignoring invalid distribution -tatsmodels (c:\\users\\hp\\anaconda3\\lib\\site-packages)\n"
     ]
    }
   ],
   "source": [
    "!pip install quantrocket"
   ]
  },
  {
   "cell_type": "code",
   "execution_count": 24,
   "id": "9dc611ad",
   "metadata": {},
   "outputs": [
    {
     "ename": "NameError",
     "evalue": "name 'get_prices' is not defined",
     "output_type": "error",
     "traceback": [
      "\u001b[1;31m---------------------------------------------------------------------------\u001b[0m",
      "\u001b[1;31mNameError\u001b[0m                                 Traceback (most recent call last)",
      "\u001b[1;32m~\\AppData\\Local\\Temp/ipykernel_10728/1399166926.py\u001b[0m in \u001b[0;36m<module>\u001b[1;34m\u001b[0m\n\u001b[1;32m----> 1\u001b[1;33m data = get_prices(\n\u001b[0m\u001b[0;32m      2\u001b[0m     \u001b[1;34m'usstock-1d-bundle'\u001b[0m\u001b[1;33m,\u001b[0m\u001b[1;33m\u001b[0m\u001b[1;33m\u001b[0m\u001b[0m\n\u001b[0;32m      3\u001b[0m     \u001b[0mdata_frequency\u001b[0m\u001b[1;33m=\u001b[0m\u001b[1;34m'daily'\u001b[0m\u001b[1;33m,\u001b[0m\u001b[1;33m\u001b[0m\u001b[1;33m\u001b[0m\u001b[0m\n\u001b[0;32m      4\u001b[0m     \u001b[0msids\u001b[0m\u001b[1;33m=\u001b[0m\u001b[0msecurities\u001b[0m\u001b[1;33m.\u001b[0m\u001b[0mindex\u001b[0m\u001b[1;33m.\u001b[0m\u001b[0mtolist\u001b[0m\u001b[1;33m(\u001b[0m\u001b[1;33m)\u001b[0m\u001b[1;33m,\u001b[0m\u001b[1;33m\u001b[0m\u001b[1;33m\u001b[0m\u001b[0m\n\u001b[0;32m      5\u001b[0m     \u001b[0mfields\u001b[0m\u001b[1;33m=\u001b[0m\u001b[1;34m'Close'\u001b[0m\u001b[1;33m,\u001b[0m\u001b[1;33m\u001b[0m\u001b[1;33m\u001b[0m\u001b[0m\n",
      "\u001b[1;31mNameError\u001b[0m: name 'get_prices' is not defined"
     ]
    }
   ],
   "source": [
    "data = get_prices(\n",
    "    'usstock-1d-bundle', \n",
    "    data_frequency='daily', \n",
    "    sids=securities.index.tolist(),\n",
    "    fields='Close', \n",
    "    start_date='2014-01-01', \n",
    "    end_date='2016-04-04').loc['Close']\n",
    "\n",
    "num_stocks = len(data.columns)"
   ]
  },
  {
   "cell_type": "code",
   "execution_count": null,
   "id": "2a98b70a",
   "metadata": {},
   "outputs": [],
   "source": [
    "returns = data.pct_change()\n",
    "returns = returns - returns.mean(skipna=True) # de-mean the returns"
   ]
  },
  {
   "cell_type": "code",
   "execution_count": null,
   "id": "59c4a64f",
   "metadata": {},
   "outputs": [],
   "source": [
    "def scale(x):\n",
    "    return x / np.sum(np.abs(x))\n",
    "\n",
    "weights = scale(np.random.random(num_stocks))\n",
    "plt.bar(np.arange(num_stocks), weights);"
   ]
  },
  {
   "cell_type": "code",
   "execution_count": null,
   "id": "f1e04b5f",
   "metadata": {},
   "outputs": [],
   "source": [
    "N = 1000\n",
    "VaRs = np.zeros((N, 1))\n",
    "for i in range(N):\n",
    "    VaRs[i] = value_at_risk(value_invested, returns, weights, lookback_days=i)\n",
    "\n",
    "plt.plot(VaRs)\n",
    "plt.xlabel('Lookback Window')\n",
    "plt.ylabel('VaR');"
   ]
  }
 ],
 "metadata": {
  "kernelspec": {
   "display_name": "Python 3 (ipykernel)",
   "language": "python",
   "name": "python3"
  },
  "language_info": {
   "codemirror_mode": {
    "name": "ipython",
    "version": 3
   },
   "file_extension": ".py",
   "mimetype": "text/x-python",
   "name": "python",
   "nbconvert_exporter": "python",
   "pygments_lexer": "ipython3",
   "version": "3.9.7"
  }
 },
 "nbformat": 4,
 "nbformat_minor": 5
}
