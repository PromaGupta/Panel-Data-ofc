{
 "cells": [
  {
   "cell_type": "code",
   "execution_count": 1,
   "id": "a520ac90",
   "metadata": {},
   "outputs": [],
   "source": [
    "# Import and preprocess data\n",
    "import pandas as pd\n",
    "dataset = pd.read_csv('guns-1.csv', usecols = ['state', 'year', 'income', 'violent'],\\\n",
    " index_col = ['state', 'year'])\n",
    "years = dataset.index.get_level_values('year').to_list()\n",
    "dataset['year'] = pd.Categorical(years)"
   ]
  },
  {
   "cell_type": "code",
   "execution_count": 2,
   "id": "5b6e400e",
   "metadata": {},
   "outputs": [
    {
     "data": {
      "text/html": [
       "<div>\n",
       "<style scoped>\n",
       "    .dataframe tbody tr th:only-of-type {\n",
       "        vertical-align: middle;\n",
       "    }\n",
       "\n",
       "    .dataframe tbody tr th {\n",
       "        vertical-align: top;\n",
       "    }\n",
       "\n",
       "    .dataframe thead th {\n",
       "        text-align: right;\n",
       "    }\n",
       "</style>\n",
       "<table border=\"1\" class=\"dataframe\">\n",
       "  <thead>\n",
       "    <tr style=\"text-align: right;\">\n",
       "      <th></th>\n",
       "      <th></th>\n",
       "      <th>violent</th>\n",
       "      <th>income</th>\n",
       "      <th>year</th>\n",
       "    </tr>\n",
       "    <tr>\n",
       "      <th>state</th>\n",
       "      <th>year</th>\n",
       "      <th></th>\n",
       "      <th></th>\n",
       "      <th></th>\n",
       "    </tr>\n",
       "  </thead>\n",
       "  <tbody>\n",
       "    <tr>\n",
       "      <th rowspan=\"5\" valign=\"top\">AL</th>\n",
       "      <th>1977</th>\n",
       "      <td>414.399994</td>\n",
       "      <td>9.563148</td>\n",
       "      <td>1977</td>\n",
       "    </tr>\n",
       "    <tr>\n",
       "      <th>1978</th>\n",
       "      <td>419.100006</td>\n",
       "      <td>9.932000</td>\n",
       "      <td>1978</td>\n",
       "    </tr>\n",
       "    <tr>\n",
       "      <th>1979</th>\n",
       "      <td>413.299988</td>\n",
       "      <td>9.877028</td>\n",
       "      <td>1979</td>\n",
       "    </tr>\n",
       "    <tr>\n",
       "      <th>1980</th>\n",
       "      <td>448.500000</td>\n",
       "      <td>9.541428</td>\n",
       "      <td>1980</td>\n",
       "    </tr>\n",
       "    <tr>\n",
       "      <th>1981</th>\n",
       "      <td>470.500000</td>\n",
       "      <td>9.548351</td>\n",
       "      <td>1981</td>\n",
       "    </tr>\n",
       "    <tr>\n",
       "      <th>...</th>\n",
       "      <th>...</th>\n",
       "      <td>...</td>\n",
       "      <td>...</td>\n",
       "      <td>...</td>\n",
       "    </tr>\n",
       "    <tr>\n",
       "      <th rowspan=\"5\" valign=\"top\">WY</th>\n",
       "      <th>1995</th>\n",
       "      <td>254.199997</td>\n",
       "      <td>14.070156</td>\n",
       "      <td>1995</td>\n",
       "    </tr>\n",
       "    <tr>\n",
       "      <th>1996</th>\n",
       "      <td>249.699997</td>\n",
       "      <td>14.032229</td>\n",
       "      <td>1996</td>\n",
       "    </tr>\n",
       "    <tr>\n",
       "      <th>1997</th>\n",
       "      <td>255.199997</td>\n",
       "      <td>14.790977</td>\n",
       "      <td>1997</td>\n",
       "    </tr>\n",
       "    <tr>\n",
       "      <th>1998</th>\n",
       "      <td>247.600006</td>\n",
       "      <td>15.225509</td>\n",
       "      <td>1998</td>\n",
       "    </tr>\n",
       "    <tr>\n",
       "      <th>1999</th>\n",
       "      <td>232.300003</td>\n",
       "      <td>15.765074</td>\n",
       "      <td>1999</td>\n",
       "    </tr>\n",
       "  </tbody>\n",
       "</table>\n",
       "<p>1150 rows × 3 columns</p>\n",
       "</div>"
      ],
      "text/plain": [
       "               violent     income  year\n",
       "state year                             \n",
       "AL    1977  414.399994   9.563148  1977\n",
       "      1978  419.100006   9.932000  1978\n",
       "      1979  413.299988   9.877028  1979\n",
       "      1980  448.500000   9.541428  1980\n",
       "      1981  470.500000   9.548351  1981\n",
       "...                ...        ...   ...\n",
       "WY    1995  254.199997  14.070156  1995\n",
       "      1996  249.699997  14.032229  1996\n",
       "      1997  255.199997  14.790977  1997\n",
       "      1998  247.600006  15.225509  1998\n",
       "      1999  232.300003  15.765074  1999\n",
       "\n",
       "[1150 rows x 3 columns]"
      ]
     },
     "execution_count": 2,
     "metadata": {},
     "output_type": "execute_result"
    }
   ],
   "source": [
    "dataset"
   ]
  },
  {
   "cell_type": "code",
   "execution_count": null,
   "id": "0ef1897d",
   "metadata": {},
   "outputs": [],
   "source": []
  },
  {
   "cell_type": "code",
   "execution_count": 4,
   "id": "7a62ffec",
   "metadata": {},
   "outputs": [
    {
     "ename": "TypeError",
     "evalue": "'DataFrame' object is not callable",
     "output_type": "error",
     "traceback": [
      "\u001b[1;31m---------------------------------------------------------------------------\u001b[0m",
      "\u001b[1;31mTypeError\u001b[0m                                 Traceback (most recent call last)",
      "\u001b[1;32m~\\AppData\\Local\\Temp/ipykernel_10680/396314793.py\u001b[0m in \u001b[0;36m<module>\u001b[1;34m\u001b[0m\n\u001b[0;32m      3\u001b[0m \u001b[1;32mimport\u001b[0m \u001b[0mstatsmodels\u001b[0m\u001b[1;33m.\u001b[0m\u001b[0mapi\u001b[0m \u001b[1;32mas\u001b[0m \u001b[0msm\u001b[0m\u001b[1;33m\u001b[0m\u001b[1;33m\u001b[0m\u001b[0m\n\u001b[0;32m      4\u001b[0m \u001b[0mexog\u001b[0m \u001b[1;33m=\u001b[0m \u001b[0msm\u001b[0m\u001b[1;33m.\u001b[0m\u001b[0mtools\u001b[0m\u001b[1;33m.\u001b[0m\u001b[0mtools\u001b[0m\u001b[1;33m.\u001b[0m\u001b[0madd_constant\u001b[0m\u001b[1;33m(\u001b[0m\u001b[0mdataset\u001b[0m\u001b[1;33m[\u001b[0m\u001b[1;34m'income'\u001b[0m\u001b[1;33m]\u001b[0m\u001b[1;33m)\u001b[0m\u001b[1;33m\u001b[0m\u001b[1;33m\u001b[0m\u001b[0m\n\u001b[1;32m----> 5\u001b[1;33m \u001b[0mendog\u001b[0m \u001b[1;33m=\u001b[0m \u001b[0mdataset\u001b[0m\u001b[1;33m(\u001b[0m\u001b[1;33m[\u001b[0m\u001b[1;34m'violent'\u001b[0m\u001b[1;33m,\u001b[0m \u001b[1;34m'year'\u001b[0m\u001b[1;33m]\u001b[0m\u001b[1;33m)\u001b[0m\u001b[1;33m\u001b[0m\u001b[1;33m\u001b[0m\u001b[0m\n\u001b[0m\u001b[0;32m      6\u001b[0m \u001b[0mmod\u001b[0m \u001b[1;33m=\u001b[0m \u001b[0mPooledOLS\u001b[0m\u001b[1;33m(\u001b[0m\u001b[0mendog\u001b[0m\u001b[1;33m,\u001b[0m \u001b[0mexog\u001b[0m\u001b[1;33m)\u001b[0m\u001b[1;33m\u001b[0m\u001b[1;33m\u001b[0m\u001b[0m\n\u001b[0;32m      7\u001b[0m \u001b[0mpooledOLS_res\u001b[0m \u001b[1;33m=\u001b[0m \u001b[0mmod\u001b[0m\u001b[1;33m.\u001b[0m\u001b[0mfit\u001b[0m\u001b[1;33m(\u001b[0m\u001b[0mcov_type\u001b[0m\u001b[1;33m=\u001b[0m\u001b[1;34m'clustered'\u001b[0m\u001b[1;33m,\u001b[0m \u001b[0mcluster_entity\u001b[0m\u001b[1;33m=\u001b[0m\u001b[1;32mTrue\u001b[0m\u001b[1;33m)\u001b[0m\u001b[1;33m\u001b[0m\u001b[1;33m\u001b[0m\u001b[0m\n",
      "\u001b[1;31mTypeError\u001b[0m: 'DataFrame' object is not callable"
     ]
    }
   ],
   "source": [
    "# Perform PooledOLS\n",
    "from linearmodels import PooledOLS\n",
    "import statsmodels.api as sm\n",
    "exog = sm.tools.tools.add_constant(dataset['income'])\n",
    "endog = dataset(['violent', 'year'])\n",
    "mod = PooledOLS(endog, exog)\n",
    "pooledOLS_res = mod.fit(cov_type='clustered', cluster_entity=True)\n",
    "# Store values for checking homoskedasticity graphically\n",
    "fittedvals_pooled_OLS = pooledOLS_res.predict().fitted_values\n",
    "residuals_pooled_OLS = pooledOLS_res.resids"
   ]
  },
  {
   "cell_type": "code",
   "execution_count": null,
   "id": "f4e8e864",
   "metadata": {},
   "outputs": [],
   "source": []
  },
  {
   "cell_type": "code",
   "execution_count": 3,
   "id": "19e9ef74",
   "metadata": {},
   "outputs": [
    {
     "data": {
      "image/png": "[encoded data removed]",
      "text/plain": [
       "<Figure size 432x288 with 1 Axes>"
      ]
     },
     "metadata": {
      "needs_background": "light"
     },
     "output_type": "display_data"
    }
   ],
   "source": [
    "# 3A. Homoskedasticity\n",
    "import matplotlib.pyplot as plt\n",
    " # 3A.1 Residuals-Plot for growing Variance Detection\n",
    "fig, ax = plt.subplots()\n",
    "ax.scatter(fittedvals_pooled_OLS, residuals_pooled_OLS, color = 'blue')\n",
    "ax.axhline(0, color = 'r', ls = '--')\n",
    "ax.set_xlabel('Predicted Values', fontsize = 15)\n",
    "ax.set_ylabel('Residuals', fontsize = 15)\n",
    "ax.set_title('Homoskedasticity Test', fontsize = 30)\n",
    "plt.show()"
   ]
  },
  {
   "cell_type": "code",
   "execution_count": 4,
   "id": "788fcb3d",
   "metadata": {},
   "outputs": [
    {
     "name": "stdout",
     "output_type": "stream",
     "text": [
      "{'LM-Stat': 25.768438815718504, 'LM p-val': 2.5377837229185637e-06, 'F-Stat': 13.145156363736128, 'F p-val': 2.2676423377302845e-06}\n",
      "{'LM-Stat': 16.98578277589019, 'LM p-val': 3.766077082686958e-05, 'F-Stat': 17.210444785499845, 'F p-val': 3.5926842191214453e-05}\n"
     ]
    }
   ],
   "source": [
    "# 3A.2 White-Test\n",
    "from statsmodels.stats.diagnostic import het_white, het_breuschpagan\n",
    "pooled_OLS_dataset = pd.concat([dataset, residuals_pooled_OLS], axis=1)\n",
    "pooled_OLS_dataset = pooled_OLS_dataset.drop(['year'], axis = 1).fillna(0)\n",
    "exog = sm.tools.tools.add_constant(dataset['income']).fillna(0)\n",
    "white_test_results = het_white(pooled_OLS_dataset['residual'], exog)\n",
    "labels = ['LM-Stat', 'LM p-val', 'F-Stat', 'F p-val'] \n",
    "print(dict(zip(labels, white_test_results)))\n",
    "\n",
    "\n",
    "# 3A.3 Breusch-Pagan-Test\n",
    "breusch_pagan_test_results = het_breuschpagan(pooled_OLS_dataset['residual'], exog)\n",
    "labels = ['LM-Stat', 'LM p-val', 'F-Stat', 'F p-val'] \n",
    "print(dict(zip(labels, breusch_pagan_test_results)))"
   ]
  },
  {
   "cell_type": "code",
   "execution_count": 5,
   "id": "9a633a61",
   "metadata": {},
   "outputs": [
    {
     "name": "stdout",
     "output_type": "stream",
     "text": [
      "0.0892005541889206\n"
     ]
    }
   ],
   "source": [
    "# 3.B Non-Autocorrelation\n",
    "# Durbin-Watson-Test\n",
    "from statsmodels.stats.stattools import durbin_watson\n",
    "\n",
    "durbin_watson_test_results = durbin_watson(pooled_OLS_dataset['residual']) \n",
    "print(durbin_watson_test_results)"
   ]
  },
  {
   "cell_type": "code",
   "execution_count": 6,
   "id": "4505c94b",
   "metadata": {},
   "outputs": [
    {
     "name": "stdout",
     "output_type": "stream",
     "text": [
      "                        RandomEffects Estimation Summary                        \n",
      "================================================================================\n",
      "Dep. Variable:                violent   R-squared:                        0.1101\n",
      "Estimator:              RandomEffects   R-squared (Between):              0.0745\n",
      "No. Observations:                1150   R-squared (Within):               0.1116\n",
      "Date:                Sat, Apr 09 2022   R-squared (Overall):              0.0791\n",
      "Time:                        17:22:53   Log-likelihood                   -6730.3\n",
      "Cov. Estimator:            Unadjusted                                           \n",
      "                                        F-statistic:                      141.97\n",
      "Entities:                          50   P-value                           0.0000\n",
      "Avg Obs:                       23.000   Distribution:                  F(1,1148)\n",
      "Min Obs:                       23.000                                           \n",
      "Max Obs:                       23.000   F-statistic (robust):             141.97\n",
      "                                        P-value                           0.0000\n",
      "Time periods:                      23   Distribution:                  F(1,1148)\n",
      "Avg Obs:                       50.000                                           \n",
      "Min Obs:                       50.000                                           \n",
      "Max Obs:                       50.000                                           \n",
      "                                                                                \n",
      "                             Parameter Estimates                              \n",
      "==============================================================================\n",
      "            Parameter  Std. Err.     T-stat    P-value    Lower CI    Upper CI\n",
      "------------------------------------------------------------------------------\n",
      "const          205.01     38.821     5.2808     0.0000      128.84      281.18\n",
      "income         19.610     1.6458     11.915     0.0000      16.381      22.839\n",
      "==============================================================================\n",
      "                          PanelOLS Estimation Summary                           \n",
      "================================================================================\n",
      "Dep. Variable:                violent   R-squared:                        0.1116\n",
      "Estimator:                   PanelOLS   R-squared (Between):              0.0740\n",
      "No. Observations:                1150   R-squared (Within):               0.1116\n",
      "Date:                Sat, Apr 09 2022   R-squared (Overall):              0.0787\n",
      "Time:                        17:22:53   Log-likelihood                   -6705.2\n",
      "Cov. Estimator:            Unadjusted                                           \n",
      "                                        F-statistic:                      138.05\n",
      "Entities:                          50   P-value                           0.0000\n",
      "Avg Obs:                       23.000   Distribution:                  F(1,1099)\n",
      "Min Obs:                       23.000                                           \n",
      "Max Obs:                       23.000   F-statistic (robust):             138.05\n",
      "                                        P-value                           0.0000\n",
      "Time periods:                      23   Distribution:                  F(1,1099)\n",
      "Avg Obs:                       50.000                                           \n",
      "Min Obs:                       50.000                                           \n",
      "Max Obs:                       50.000                                           \n",
      "                                                                                \n",
      "                             Parameter Estimates                              \n",
      "==============================================================================\n",
      "            Parameter  Std. Err.     T-stat    P-value    Lower CI    Upper CI\n",
      "------------------------------------------------------------------------------\n",
      "const          207.42     22.668     9.1503     0.0000      162.94      251.90\n",
      "income         19.433     1.6540     11.749     0.0000      16.188      22.678\n",
      "==============================================================================\n",
      "\n",
      "F-test for Poolability: 160.68\n",
      "P-value: 0.0000\n",
      "Distribution: F(49,1099)\n",
      "\n",
      "Included effects: Entity\n"
     ]
    }
   ],
   "source": [
    "# FE und RE model\n",
    "from linearmodels import PanelOLS\n",
    "from linearmodels import RandomEffects\n",
    "exog = sm.tools.tools.add_constant(dataset['income'])\n",
    "endog = dataset['violent']\n",
    "# random effects model\n",
    "model_re = RandomEffects(endog, exog) \n",
    "re_res = model_re.fit() \n",
    "# fixed effects model\n",
    "model_fe = PanelOLS(endog, exog, entity_effects = True) \n",
    "fe_res = model_fe.fit() \n",
    "#print results\n",
    "print(re_res)\n",
    "print(fe_res)"
   ]
  },
  {
   "cell_type": "code",
   "execution_count": 7,
   "id": "ed91c922",
   "metadata": {},
   "outputs": [],
   "source": [
    "import numpy.linalg as la\n",
    "from scipy import stats\n",
    "import numpy as np\n",
    "def hausman(fe, re):\n",
    "    b = fe.params\n",
    "    B = re.params\n",
    "    v_b = fe.cov\n",
    "    v_B = re.cov\n"
   ]
  },
  {
   "cell_type": "code",
   "execution_count": null,
   "id": "d5890778",
   "metadata": {},
   "outputs": [],
   "source": []
  },
  {
   "cell_type": "code",
   "execution_count": null,
   "id": "1ae4f5f5",
   "metadata": {},
   "outputs": [],
   "source": []
  },
  {
   "cell_type": "code",
   "execution_count": null,
   "id": "1f646047",
   "metadata": {},
   "outputs": [],
   "source": []
  },
  {
   "cell_type": "code",
   "execution_count": null,
   "id": "b5427b08",
   "metadata": {},
   "outputs": [],
   "source": []
  },
  {
   "cell_type": "code",
   "execution_count": 8,
   "id": "54d5df1e",
   "metadata": {},
   "outputs": [
    {
     "ename": "NameError",
     "evalue": "name 'b' is not defined",
     "output_type": "error",
     "traceback": [
      "\u001b[1;31m---------------------------------------------------------------------------\u001b[0m",
      "\u001b[1;31mNameError\u001b[0m                                 Traceback (most recent call last)",
      "\u001b[1;32m~\\AppData\\Local\\Temp/ipykernel_12044/1026618452.py\u001b[0m in \u001b[0;36m<module>\u001b[1;34m\u001b[0m\n\u001b[1;32m----> 1\u001b[1;33m \u001b[0mdf\u001b[0m \u001b[1;33m=\u001b[0m \u001b[0mb\u001b[0m\u001b[1;33m[\u001b[0m\u001b[0mnp\u001b[0m\u001b[1;33m.\u001b[0m\u001b[0mabs\u001b[0m\u001b[1;33m(\u001b[0m\u001b[0mb\u001b[0m\u001b[1;33m)\u001b[0m \u001b[1;33m<\u001b[0m \u001b[1;36m1e8\u001b[0m\u001b[1;33m]\u001b[0m\u001b[1;33m.\u001b[0m\u001b[0msize\u001b[0m\u001b[1;33m\u001b[0m\u001b[1;33m\u001b[0m\u001b[0m\n\u001b[0m\u001b[0;32m      2\u001b[0m \u001b[1;33m\u001b[0m\u001b[0m\n\u001b[0;32m      3\u001b[0m \u001b[0mchi2\u001b[0m \u001b[1;33m=\u001b[0m \u001b[0mnp\u001b[0m\u001b[1;33m.\u001b[0m\u001b[0mdot\u001b[0m\u001b[1;33m(\u001b[0m\u001b[1;33m(\u001b[0m\u001b[0mb\u001b[0m \u001b[1;33m-\u001b[0m \u001b[0mB\u001b[0m\u001b[1;33m)\u001b[0m\u001b[1;33m.\u001b[0m\u001b[0mT\u001b[0m\u001b[1;33m,\u001b[0m \u001b[0mla\u001b[0m\u001b[1;33m.\u001b[0m\u001b[0minv\u001b[0m\u001b[1;33m(\u001b[0m\u001b[0mv_b\u001b[0m \u001b[1;33m-\u001b[0m \u001b[0mv_B\u001b[0m\u001b[1;33m)\u001b[0m\u001b[1;33m.\u001b[0m\u001b[0mdot\u001b[0m\u001b[1;33m(\u001b[0m\u001b[0mb\u001b[0m \u001b[1;33m-\u001b[0m \u001b[0mB\u001b[0m\u001b[1;33m)\u001b[0m\u001b[1;33m)\u001b[0m\u001b[1;33m\u001b[0m\u001b[1;33m\u001b[0m\u001b[0m\n\u001b[0;32m      4\u001b[0m \u001b[1;33m\u001b[0m\u001b[0m\n\u001b[0;32m      5\u001b[0m \u001b[0mpval\u001b[0m \u001b[1;33m=\u001b[0m \u001b[0mstats\u001b[0m\u001b[1;33m.\u001b[0m\u001b[0mchi2\u001b[0m\u001b[1;33m.\u001b[0m\u001b[0msf\u001b[0m\u001b[1;33m(\u001b[0m\u001b[0mchi2\u001b[0m\u001b[1;33m,\u001b[0m \u001b[0mdf\u001b[0m\u001b[1;33m)\u001b[0m\u001b[1;33m\u001b[0m\u001b[1;33m\u001b[0m\u001b[0m\n",
      "\u001b[1;31mNameError\u001b[0m: name 'b' is not defined"
     ]
    }
   ],
   "source": [
    "df = b[np.abs(b) < 1e8].size\n",
    "\n",
    "chi2 = np.dot((b - B).T, la.inv(v_b - v_B).dot(b - B)) \n",
    " \n",
    "pval = stats.chi2.sf(chi2, df)\n",
    "return chi2, df, pval\n",
    "hausman_results = hausman(fe_res, re_res) \n",
    "print('chi-Squared: ' + str(hausman_results[0]))\n",
    "print('degrees of freedom: ' + str(hausman_results[1]))\n",
    "print('p-Value: ' + str(hausman_results[2]))"
   ]
  },
  {
   "cell_type": "code",
   "execution_count": null,
   "id": "e58961c6",
   "metadata": {},
   "outputs": [],
   "source": []
  },
  {
   "cell_type": "code",
   "execution_count": null,
   "id": "3ecc3d93",
   "metadata": {},
   "outputs": [],
   "source": []
  },
  {
   "cell_type": "code",
   "execution_count": null,
   "id": "16976f7d",
   "metadata": {},
   "outputs": [],
   "source": []
  },
  {
   "cell_type": "code",
   "execution_count": null,
   "id": "e6feb3bc",
   "metadata": {},
   "outputs": [],
   "source": []
  },
  {
   "cell_type": "code",
   "execution_count": null,
   "id": "c2f00cbf",
   "metadata": {},
   "outputs": [],
   "source": []
  },
  {
   "cell_type": "code",
   "execution_count": null,
   "id": "cb5ddad4",
   "metadata": {},
   "outputs": [],
   "source": []
  },
  {
   "cell_type": "code",
   "execution_count": null,
   "id": "e22ac8fc",
   "metadata": {},
   "outputs": [],
   "source": []
  },
  {
   "cell_type": "code",
   "execution_count": null,
   "id": "50d16516",
   "metadata": {},
   "outputs": [],
   "source": []
  },
  {
   "cell_type": "code",
   "execution_count": null,
   "id": "22357455",
   "metadata": {},
   "outputs": [],
   "source": []
  },
  {
   "cell_type": "code",
   "execution_count": null,
   "id": "5556913d",
   "metadata": {},
   "outputs": [],
   "source": []
  },
  {
   "cell_type": "code",
   "execution_count": null,
   "id": "791d1485",
   "metadata": {},
   "outputs": [],
   "source": []
  },
  {
   "cell_type": "code",
   "execution_count": null,
   "id": "50d4eb9c",
   "metadata": {},
   "outputs": [],
   "source": []
  }
 ],
 "metadata": {
  "kernelspec": {
   "display_name": "Python 3 (ipykernel)",
   "language": "python",
   "name": "python3"
  },
  "language_info": {
   "codemirror_mode": {
    "name": "ipython",
    "version": 3
   },
   "file_extension": ".py",
   "mimetype": "text/x-python",
   "name": "python",
   "nbconvert_exporter": "python",
   "pygments_lexer": "ipython3",
   "version": "3.9.7"
  }
 },
 "nbformat": 4,
 "nbformat_minor": 5
}
